{
 "cells": [
  {
   "cell_type": "markdown",
   "metadata": {},
   "source": [
    "# Недельник 1\n",
    "\n",
    "Как было сказано на лекции, на текущей неделе вы получаете ежедневные задания. Система оценки следующая: в первый день(четверг) вы делаете первый pull-request в ветку homework_01. Потом каждый день делаете коммит, он будет автоматически привязывать к pull-request. Если задачка не сделана в течении 2-х дней она сгорает. (Можно четверг сделать в четверг и пятницу)"
   ]
  },
  {
   "cell_type": "markdown",
   "metadata": {},
   "source": [
    "# Четверг"
   ]
  },
  {
   "cell_type": "code",
   "execution_count": 5,
   "metadata": {},
   "outputs": [],
   "source": [
    "#TODO Сделайте калькулятор произвольных выражений, операции следующие: +, -, /, ^, *. скобок нет\n",
    "def calculate(input_str):\n",
    "    return eval(input_str.replace(\"^\",\"**\"))\n"
   ]
  },
  {
   "cell_type": "code",
   "execution_count": 6,
   "metadata": {},
   "outputs": [],
   "source": [
    "assert calculate(\"2 + 2 * 2\") == 6\n",
    "assert calculate(\"345 / 5 * 21\") == 1449.0\n",
    "assert calculate(\"3^3 - 10 + 41 * 3\") == 140\n",
    "assert calculate(\"42 / 7 * 32\") == 192.0\n",
    "assert calculate(\"-228-1488+420\") == -1296\n",
    "assert calculate(\"-33*24**0\") == -33\n",
    "#TODO Дополнить еще 2-мя своими тестами"
   ]
  },
  {
   "cell_type": "markdown",
   "metadata": {},
   "source": [
    "# Пятница"
   ]
  },
  {
   "cell_type": "code",
   "execution_count": 7,
   "metadata": {},
   "outputs": [],
   "source": [
    "#TODO метод разворачивающий строку HE2LO -> HELLO (число означает сколько раз встречается буква)\n",
    "def transform_string(inp_string):\n",
    "    chars = list(inp_string)\n",
    "    for i in range(0,len(chars),1):\n",
    "        if chars[i].isdigit():\n",
    "            num = 0\n",
    "            k = 0\n",
    "            while chars[i].isdigit():\n",
    "                num = num*10 + int(chars[i])\n",
    "                i = i + 1\n",
    "                k = k + 1\n",
    "            chars[i-k] = chars[i]*(num-1)\n",
    "            if (num / 10) > 1 :\n",
    "                chars[i-1] = ''\n",
    "    inp_string = ''.join(chars)\n",
    "    return inp_string"
   ]
  },
  {
   "cell_type": "code",
   "execution_count": 8,
   "metadata": {},
   "outputs": [],
   "source": [
    "assert transform_string(\"HE2LO\") == \"HELLO\"\n",
    "assert transform_string(\"HI\") == \"HI\"\n",
    "assert transform_string(\"пр12ивет\") == \"приииииииииииивет\"\n",
    "assert transform_string(\"2л3у78н65тик\") == 'ллуууннннннннннннннннннннннннннннннннннннннннннннннннннннннннннннннннннннннннннннннтттттттттттттттттттттттттттттттттттттттттттттттттттттттттттттттттик'\n",
    "assert transform_string(\"KIRI2L\") == \"KIRILL\"\n",
    "assert transform_string(\"4B4c4E4m2H5I\") == \"BBBBccccEEEEmmmmHHIIIII\"\n",
    "#TODO Дописать 2 своих теста"
   ]
  },
  {
   "cell_type": "markdown",
   "metadata": {},
   "source": [
    "# Суббота"
   ]
  },
  {
   "cell_type": "code",
   "execution_count": 4,
   "metadata": {},
   "outputs": [],
   "source": [
    "\n",
    "str_strnlo = ['а','б','в','г','д','е','ё','ж','з','и','й','к','л','м','н','о','п','р','с','т','у','ф','х','ц','ч','ш','щ','ъ','ы','ь','э','ю','я']\n",
    "str_strn = ['А','Б','В','Г','Д','Е','Ё','Ж','З','И','Й','К','Л','М','Н','О','П','Р','С','Т','У','Ф','Ч','Ц','Ч','Ш','Щ','Ъ','Ы','Ь','Э','Ю','Я']\n",
    "str_num = ['1','2','3','4','5','6','7','8','9']\n",
    "str_gl = ['а','е','ё','и','о','у','э','ю','я','ы']\n",
    "str_glup = ['А','Е','ё','И','О','У','Э','Ю','Я','Ы']\n",
    "str_slup = ['Б','В','Г','Д','Ж','З','Й','К','Л','М','Н','П','Р','С','Т','Ф','Ч','Ц','Х','Ш','Щ','Ъ','Ь']\n",
    "str_sl = ['б','в','г','д','ж','з','й','к','л','м','н','п','р','с','т','ф','ч','ц','х','ш','щ','ъ','ь']\n",
    "#TODO метод выводящий статистику по строке, кол-во гласных, согласных, цифр, строчных букв, прописных букв\n",
    "def string_stat(inp_string):\n",
    "    strn = 0\n",
    "    num = 0\n",
    "    strnlo = 0\n",
    "    gl = 0\n",
    "    sl = 0\n",
    "    for i in inp_string :\n",
    "        if i in str_strnlo:\n",
    "            strn += 1\n",
    "        if i in str_strn:\n",
    "            strnlo += 1\n",
    "        if i in str_gl or i in str_glup:\n",
    "            gl += 1\n",
    "        if i in str_sl or i in str_slup:\n",
    "            sl += 1\n",
    "        if i in str_num:\n",
    "            num += 1\n",
    "    return gl,sl,num,strn,strnlo"
   ]
  },
  {
   "cell_type": "code",
   "execution_count": 5,
   "metadata": {},
   "outputs": [],
   "source": [
    "assert string_stat(\"Тевирп\") == (2, 4, 0, 5, 1)\n",
    "assert string_stat(\"КоРоВа4\") == (3, 3, 1, 3, 3)\n",
    "assert string_stat(\"П1р2И3В4е5Т6\") == (2, 4, 6, 2, 4)\n",
    "assert string_stat(\"техноатом\") == (4, 5, 0, 9, 0)\n",
    "\n",
    "#TODO 2 своих теста"
   ]
  },
  {
   "cell_type": "markdown",
   "metadata": {},
   "source": [
    "# Воскресенье - ВЫХОДНОЙ"
   ]
  },
  {
   "cell_type": "markdown",
   "metadata": {},
   "source": [
    "# Понедельник"
   ]
  },
  {
   "cell_type": "code",
   "execution_count": 1,
   "metadata": {},
   "outputs": [],
   "source": [
    "#TODO инвертируйте словарь из k - [v_1, v_2] в v_1 [k_1]\n",
    "def dict_inverter(input_dict):\n",
    "    new_dict = {}\n",
    "    for key,values in input_dict.items():\n",
    "        for i in range(0,len(values),1):\n",
    "                if not(values[i] in new_dict):\n",
    "                    new_dict[values[i]] = key\n",
    "                elif new_dict[values[i]] is list():\n",
    "                    new_dict[values[i]].append(key)\n",
    "                else:\n",
    "                    new_dict[values[i]] = [new_dict[values[i]]]\n",
    "                    new_dict[values[i]].append(key)\n",
    "\n",
    "    return new_dict"
   ]
  },
  {
   "cell_type": "code",
   "execution_count": 2,
   "metadata": {},
   "outputs": [],
   "source": [
    "assert dict_inverter({\"mango\" : [\"eatable\"], \"pillow\": [\"sleepable\"]}) == {\"eatable\": \"mango\", \"sleepable\": \"pillow\"}\n",
    "assert dict_inverter({\"mango\" : [\"eatable\", \"readable\"]}) == {\"readable\":\"mango\", \"eatable\":\"mango\"}\n",
    "assert dict_inverter({\"mango\" : [\"eatable\"], \"banana\": [\"eatable\"]}) == {\"eatable\": [\"mango\", \"banana\"]}\n",
    "assert dict_inverter({'МИФИ':[\"1\"],\"МФТИ\":['2'],\"ВШЭ\":['3']}) == {'1' : 'МИФИ','2' : \"МФТИ\" , '3' : \"ВШЭ\"}\n",
    "\n",
    "#TODO Один свой тест"
   ]
  },
  {
   "cell_type": "markdown",
   "metadata": {},
   "source": [
    "# Вторник"
   ]
  },
  {
   "cell_type": "code",
   "execution_count": 5,
   "metadata": {},
   "outputs": [],
   "source": [
    "#TODO вывести уникальные элементы массива\n",
    "def uniq_array(input_arr):\n",
    "    return list(set(input_arr))"
   ]
  },
  {
   "cell_type": "code",
   "execution_count": 6,
   "metadata": {},
   "outputs": [],
   "source": [
    "assert uniq_array([0]) == [0]\n",
    "assert uniq_array([0, 1, 2, 3]) == [0, 1, 2, 3]\n",
    "assert uniq_array([\"f\", \"t\", \"f\"]) == ['t', 'f']\n",
    "assert uniq_array(['rt', 'rt']) == ['rt']"
   ]
  },
  {
   "cell_type": "code",
   "execution_count": null,
   "metadata": {},
   "outputs": [],
   "source": []
  }
 ],
 "metadata": {
  "kernelspec": {
   "display_name": "Python 3",
   "language": "python",
   "name": "python3"
  },
  "language_info": {
   "codemirror_mode": {
    "name": "ipython",
    "version": 3
   },
   "file_extension": ".py",
   "mimetype": "text/x-python",
   "name": "python",
   "nbconvert_exporter": "python",
   "pygments_lexer": "ipython3",
   "version": "3.6.5"
  }
 },
 "nbformat": 4,
 "nbformat_minor": 2
}
